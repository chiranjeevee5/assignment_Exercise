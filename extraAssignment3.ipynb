{
 "cells": [
  {
   "cell_type": "code",
   "execution_count": 1,
   "id": "8e5ff07a",
   "metadata": {},
   "outputs": [
    {
     "name": "stdout",
     "output_type": "stream",
     "text": [
      "value: 10\n",
      "Correct\n"
     ]
    }
   ],
   "source": [
    "# print 'CORRECT' if i == 10\n",
    "\n",
    "a = (1,2,3,4,5,6,10)\n",
    "\n",
    "for  i in a:\n",
    "    if(i==10):\n",
    "        print(\"value:\", i)\n",
    "        print(\"Correct\")"
   ]
  },
  {
   "cell_type": "code",
   "execution_count": 2,
   "id": "1aee7807",
   "metadata": {},
   "outputs": [
    {
     "name": "stdout",
     "output_type": "stream",
     "text": [
      "Enter the password: HOPE@123\n",
      "Your password is correct\n"
     ]
    }
   ],
   "source": [
    "# Check the password, using if and else\n",
    "\n",
    "str=input(\"Enter the password: \")\n",
    "\n",
    "if(str in \"HOPE@123\"):\n",
    "    print(\"Your password is correct\")\n",
    "else:\n",
    "    print(\"Your password is not correct\")"
   ]
  },
  {
   "cell_type": "code",
   "execution_count": 5,
   "id": "5a7b38c5",
   "metadata": {},
   "outputs": [
    {
     "name": "stdout",
     "output_type": "stream",
     "text": [
      "age: 20\n",
      "Adult\n"
     ]
    }
   ],
   "source": [
    "# Catagory the people by their age like children, adult, citizen, senior citizen...\n",
    "age =int(input(\"age: \"))\n",
    "\n",
    "if(age<=18):\n",
    "    print(\"Minor\")\n",
    "elif(age>=19 and age<=25):\n",
    "    print(\"Adult\")\n",
    "elif(age>=26 and age<=40):\n",
    "    print(\"Married\")\n",
    "elif(age>=41 and age<=60):\n",
    "    print(\"Retired\")\n",
    "else:\n",
    "    print(\"Old Age\")"
   ]
  },
  {
   "cell_type": "code",
   "execution_count": 8,
   "id": "27f04d54",
   "metadata": {},
   "outputs": [
    {
     "name": "stdout",
     "output_type": "stream",
     "text": [
      "Enter any number: 1\n",
      "No is positive\n"
     ]
    }
   ],
   "source": [
    "# Find whether given number is positive or negative\n",
    "\n",
    "num = float(input(\"Enter any number: \"))\n",
    "\n",
    "# Check if the number is greater than zero.\n",
    "if num > 0:\n",
    "   # If true, print that it is a positive number.\n",
    "   print(\"No is positive\")\n",
    "# Check if the number is equal to zero.\n",
    "elif num == 0:\n",
    "   # If true, print that it is zero.\n",
    "   print(\"It is zero\")\n",
    "else:\n",
    "   # If the above conditions are not met, print that it is a negative number.\n",
    "   print(\"No is negative\")\n"
   ]
  },
  {
   "cell_type": "code",
   "execution_count": 11,
   "id": "6f25c9da",
   "metadata": {},
   "outputs": [
    {
     "name": "stdout",
     "output_type": "stream",
     "text": [
      "Enter a number to check:22\n",
      "No is not divisible by 5.\n"
     ]
    }
   ],
   "source": [
    "# Check whether the given number is divisible by 5\n",
    "\n",
    "n = int(input(\"Enter a number to check:\"))\n",
    "\n",
    "if n % 5 == 0:\n",
    "    print(\"No is divisible by 5\")\n",
    "else:\n",
    "    print(\"No is not divisible by 5.\")"
   ]
  },
  {
   "cell_type": "code",
   "execution_count": null,
   "id": "55c71b66",
   "metadata": {},
   "outputs": [],
   "source": []
  }
 ],
 "metadata": {
  "kernelspec": {
   "display_name": "Python 3 (ipykernel)",
   "language": "python",
   "name": "python3"
  },
  "language_info": {
   "codemirror_mode": {
    "name": "ipython",
    "version": 3
   },
   "file_extension": ".py",
   "mimetype": "text/x-python",
   "name": "python",
   "nbconvert_exporter": "python",
   "pygments_lexer": "ipython3",
   "version": "3.9.7"
  }
 },
 "nbformat": 4,
 "nbformat_minor": 5
}
