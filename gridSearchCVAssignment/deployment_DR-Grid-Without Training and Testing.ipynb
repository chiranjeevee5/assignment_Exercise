{
 "cells": [
  {
   "cell_type": "code",
   "execution_count": 8,
   "id": "c70cf40c",
   "metadata": {},
   "outputs": [],
   "source": [
    "import pickle"
   ]
  },
  {
   "cell_type": "code",
   "execution_count": 9,
   "id": "94f3c524",
   "metadata": {},
   "outputs": [],
   "source": [
    "#To test the DR-Grid-Without Training and Testing\n",
    "loaded_model=pickle.load(open(\"finallized_model_DR_WithoutTrainingandTesting.sav\",'rb'))\n",
    "result=loaded_model.predict([[19,27,3,1,0]])"
   ]
  },
  {
   "cell_type": "code",
   "execution_count": 10,
   "id": "1c5a0dc7",
   "metadata": {},
   "outputs": [
    {
     "data": {
      "text/plain": [
       "array([3481.868])"
      ]
     },
     "execution_count": 10,
     "metadata": {},
     "output_type": "execute_result"
    }
   ],
   "source": [
    "result"
   ]
  },
  {
   "cell_type": "code",
   "execution_count": 11,
   "id": "f94fbcd1",
   "metadata": {},
   "outputs": [],
   "source": [
    "#To test the DR-Grid-Without Training and Testing\n",
    "loaded_model=pickle.load(open(\"finallized_model_DR_WithoutTrainingandTesting.sav\",'rb'))\n",
    "result=loaded_model.predict([[30,43,1,0,1]])"
   ]
  },
  {
   "cell_type": "code",
   "execution_count": 12,
   "id": "7edf81de",
   "metadata": {},
   "outputs": [
    {
     "data": {
      "text/plain": [
       "array([40419.0191])"
      ]
     },
     "execution_count": 12,
     "metadata": {},
     "output_type": "execute_result"
    }
   ],
   "source": [
    "result"
   ]
  },
  {
   "cell_type": "code",
   "execution_count": null,
   "id": "211e00ca",
   "metadata": {},
   "outputs": [],
   "source": []
  }
 ],
 "metadata": {
  "kernelspec": {
   "display_name": "Python 3 (ipykernel)",
   "language": "python",
   "name": "python3"
  },
  "language_info": {
   "codemirror_mode": {
    "name": "ipython",
    "version": 3
   },
   "file_extension": ".py",
   "mimetype": "text/x-python",
   "name": "python",
   "nbconvert_exporter": "python",
   "pygments_lexer": "ipython3",
   "version": "3.9.7"
  }
 },
 "nbformat": 4,
 "nbformat_minor": 5
}
