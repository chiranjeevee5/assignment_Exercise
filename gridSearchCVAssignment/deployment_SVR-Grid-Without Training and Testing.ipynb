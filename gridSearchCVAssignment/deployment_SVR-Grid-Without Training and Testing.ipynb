{
 "cells": [
  {
   "cell_type": "code",
   "execution_count": 1,
   "id": "bff43f7c",
   "metadata": {},
   "outputs": [],
   "source": [
    "import pickle"
   ]
  },
  {
   "cell_type": "code",
   "execution_count": 4,
   "id": "eb51461c",
   "metadata": {},
   "outputs": [],
   "source": [
    "#To test the SVR-Grid-Without Training and Testing\n",
    "loaded_model=pickle.load(open(\"finallized_model_SVR_WithoutTrainingandTesting.sav\",'rb'))\n",
    "result=loaded_model.predict([[19,27,3,1,0]])"
   ]
  },
  {
   "cell_type": "code",
   "execution_count": 5,
   "id": "628d70f3",
   "metadata": {},
   "outputs": [
    {
     "data": {
      "text/plain": [
       "array([3676.74105864])"
      ]
     },
     "execution_count": 5,
     "metadata": {},
     "output_type": "execute_result"
    }
   ],
   "source": [
    "result"
   ]
  },
  {
   "cell_type": "code",
   "execution_count": 6,
   "id": "0acff9fe",
   "metadata": {},
   "outputs": [],
   "source": [
    "#To test the SVR-Grid-Without Training and Testing\n",
    "loaded_model=pickle.load(open(\"finallized_model_SVR_WithoutTrainingandTesting.sav\",'rb'))\n",
    "result=loaded_model.predict([[19,27,0,1,1]])"
   ]
  },
  {
   "cell_type": "code",
   "execution_count": 7,
   "id": "0d04e470",
   "metadata": {},
   "outputs": [
    {
     "data": {
      "text/plain": [
       "array([21271.21311741])"
      ]
     },
     "execution_count": 7,
     "metadata": {},
     "output_type": "execute_result"
    }
   ],
   "source": [
    "result"
   ]
  },
  {
   "cell_type": "code",
   "execution_count": null,
   "id": "ff84bb57",
   "metadata": {},
   "outputs": [],
   "source": []
  }
 ],
 "metadata": {
  "kernelspec": {
   "display_name": "Python 3 (ipykernel)",
   "language": "python",
   "name": "python3"
  },
  "language_info": {
   "codemirror_mode": {
    "name": "ipython",
    "version": 3
   },
   "file_extension": ".py",
   "mimetype": "text/x-python",
   "name": "python",
   "nbconvert_exporter": "python",
   "pygments_lexer": "ipython3",
   "version": "3.9.7"
  }
 },
 "nbformat": 4,
 "nbformat_minor": 5
}
