{
 "cells": [
  {
   "cell_type": "code",
   "execution_count": 2,
   "id": "90f03ea8",
   "metadata": {},
   "outputs": [],
   "source": [
    "import pickle"
   ]
  },
  {
   "cell_type": "code",
   "execution_count": 3,
   "id": "2fc592c4",
   "metadata": {},
   "outputs": [],
   "source": [
    "#To test the RF-Grid-Without Training and Testing\n",
    "loaded_model=pickle.load(open(\"finallized_model_RF_WithoutTrainingandTesting.sav\",'rb'))\n",
    "result=loaded_model.predict([[30,23,3,1,0]])"
   ]
  },
  {
   "cell_type": "code",
   "execution_count": 4,
   "id": "f32aa323",
   "metadata": {},
   "outputs": [
    {
     "data": {
      "text/plain": [
       "array([5483.1820142])"
      ]
     },
     "execution_count": 4,
     "metadata": {},
     "output_type": "execute_result"
    }
   ],
   "source": [
    "result"
   ]
  },
  {
   "cell_type": "code",
   "execution_count": 5,
   "id": "fddca119",
   "metadata": {},
   "outputs": [],
   "source": [
    "#To test the RF-Grid-Without Training and Testing\n",
    "loaded_model=pickle.load(open(\"finallized_model_RF_WithoutTrainingandTesting.sav\",'rb'))\n",
    "result=loaded_model.predict([[19,23,1,0,0]])"
   ]
  },
  {
   "cell_type": "code",
   "execution_count": 6,
   "id": "929c3767",
   "metadata": {},
   "outputs": [
    {
     "data": {
      "text/plain": [
       "array([3376.4184258])"
      ]
     },
     "execution_count": 6,
     "metadata": {},
     "output_type": "execute_result"
    }
   ],
   "source": [
    "result"
   ]
  },
  {
   "cell_type": "code",
   "execution_count": null,
   "id": "97a8a33d",
   "metadata": {},
   "outputs": [],
   "source": []
  }
 ],
 "metadata": {
  "kernelspec": {
   "display_name": "Python 3 (ipykernel)",
   "language": "python",
   "name": "python3"
  },
  "language_info": {
   "codemirror_mode": {
    "name": "ipython",
    "version": 3
   },
   "file_extension": ".py",
   "mimetype": "text/x-python",
   "name": "python",
   "nbconvert_exporter": "python",
   "pygments_lexer": "ipython3",
   "version": "3.9.7"
  }
 },
 "nbformat": 4,
 "nbformat_minor": 5
}
