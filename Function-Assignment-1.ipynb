{
 "cells": [
  {
   "cell_type": "code",
   "execution_count": null,
   "id": "73742f63",
   "metadata": {},
   "outputs": [],
   "source": [
    "# Create a class and function, and list out the items in the list"
   ]
  },
  {
   "cell_type": "code",
   "execution_count": 1,
   "id": "fbbe37cf",
   "metadata": {},
   "outputs": [
    {
     "name": "stdout",
     "output_type": "stream",
     "text": [
      "Sub-fields in AI are:\n",
      "Machine Learning\n",
      "Neural Networks\n",
      "Vision\n",
      "Robotics\n",
      "Speech Processing\n",
      "Natural Language Processing\n"
     ]
    }
   ],
   "source": [
    "def Subfields():\n",
    "    AI_list=[\"Machine Learning\",\"Neural Networks\",\"Vision\",\"Robotics\",\"Speech Processing\",\"Natural Language Processing\"]\n",
    "    print(\"Sub-fields in AI are:\")  \n",
    "    for list in AI_list:\n",
    "        print(list)\n",
    "        \n",
    "Subfields()"
   ]
  },
  {
   "cell_type": "code",
   "execution_count": null,
   "id": "9d69a458",
   "metadata": {},
   "outputs": [],
   "source": [
    "# Create a function that checks whether the given number is Odd or Even"
   ]
  },
  {
   "cell_type": "code",
   "execution_count": 2,
   "id": "aea14222",
   "metadata": {},
   "outputs": [
    {
     "name": "stdout",
     "output_type": "stream",
     "text": [
      "Enter a number: 52452\n",
      "52452  is Even number\n"
     ]
    }
   ],
   "source": [
    "def OddEven():\n",
    "    Num = int(input(\"Enter a number: \"))\n",
    "    if((Num%2)==0):\n",
    "        print(Num,\" is Even number\")\n",
    "    else:\n",
    "        print(Num,\" is Odd number\")\n",
    "\n",
    "OddEven()"
   ]
  },
  {
   "cell_type": "code",
   "execution_count": null,
   "id": "5c2dea3d",
   "metadata": {},
   "outputs": [],
   "source": [
    "# Create a function that tells elegibility of marriage for male and female according to thei\n",
    "r age limit like 21 for male and 18 for female"
   ]
  },
  {
   "cell_type": "code",
   "execution_count": 3,
   "id": "00cd7a84",
   "metadata": {},
   "outputs": [
    {
     "name": "stdout",
     "output_type": "stream",
     "text": [
      "Your Gender:Male\n",
      "Your Age:20\n",
      "Not Eligible\n"
     ]
    }
   ],
   "source": [
    "def marriageEligAge():\n",
    "    sex=input(\"Your Gender:\")\n",
    "    age=int(input(\"Your Age:\"))\n",
    "\n",
    "    if(sex==\"Female\"):\n",
    "        if(age>=18):\n",
    "            print(\"Eligible\")\n",
    "        else:\n",
    "            print(\"Not Eligible\")\n",
    "\n",
    "    elif(sex==\"Male\"):\n",
    "        if(age>=21):\n",
    "            print(\"Eligible\")\n",
    "        else:\n",
    "            print(\"Not Eligible\")    \n",
    "\n",
    "marriageEligAge()"
   ]
  },
  {
   "cell_type": "code",
   "execution_count": null,
   "id": "0e4f01ff",
   "metadata": {},
   "outputs": [],
   "source": [
    "# calculate the percentage of your 10th mark"
   ]
  },
  {
   "cell_type": "code",
   "execution_count": 4,
   "id": "af4d4d75",
   "metadata": {},
   "outputs": [
    {
     "name": "stdout",
     "output_type": "stream",
     "text": [
      "Total : 468\n",
      "Percentage : 93.60000000000001\n"
     ]
    }
   ],
   "source": [
    "def percentage():\n",
    "    # Subject-wise marks\n",
    "    Subject1 = 98\n",
    "    Subject2 = 87\n",
    "    Subject3 = 95\n",
    "    Subject4 = 95\n",
    "    Subject5 = 93\n",
    "\n",
    "    # Total marks\n",
    "    total_marks = Subject1 + Subject2 + Subject3 + Subject4 + Subject5\n",
    "\n",
    "    # Total subjects\n",
    "    total_subjects = 5\n",
    "\n",
    "    # Calculate percentage\n",
    "    percentage = (total_marks / (total_subjects * 100)) * 100\n",
    "\n",
    "    print(\"Total :\", total_marks)\n",
    "    print(\"Percentage :\", percentage)\n",
    "    \n",
    "percentage()"
   ]
  },
  {
   "cell_type": "code",
   "execution_count": null,
   "id": "d445faf1",
   "metadata": {},
   "outputs": [],
   "source": [
    "#print area and perimeter of triangle using class and functions"
   ]
  },
  {
   "cell_type": "code",
   "execution_count": 8,
   "id": "37a53fb0",
   "metadata": {},
   "outputs": [
    {
     "name": "stdout",
     "output_type": "stream",
     "text": [
      "Height:32\n",
      "Breadth:34\n",
      "Area formula: (Height*Breadth)/2\n",
      "Area of Triangle: 544.0\n",
      "Height1:2\n",
      "Height2:4\n",
      "Breadth:4\n",
      "Perimeter formula: Height1+Height2+Breadth\n",
      "Perimeter of Triangle: 10\n"
     ]
    }
   ],
   "source": [
    "def triangle():\n",
    "    height=int(input(\"Height:\"))\n",
    "    breadth=int(input(\"Breadth:\"))\n",
    "    area=(height*breadth)/2\n",
    "    print(\"Area formula: (Height*Breadth)/2\")\n",
    "    print(\"Area of Triangle:\",area)\n",
    "\n",
    "    height1=int(input(\"Height1:\"))\n",
    "    height2=int(input(\"Height2:\"))\n",
    "    breadth=int(input(\"Breadth:\"))\n",
    "    perimeter=height1+height2+breadth\n",
    "    print(\"Perimeter formula: Height1+Height2+Breadth\")\n",
    "    print(\"Perimeter of Triangle:\",perimeter)\n",
    "    \n",
    "triangle()"
   ]
  },
  {
   "cell_type": "code",
   "execution_count": null,
   "id": "2f8ebcc6",
   "metadata": {},
   "outputs": [],
   "source": []
  }
 ],
 "metadata": {
  "kernelspec": {
   "display_name": "Python 3 (ipykernel)",
   "language": "python",
   "name": "python3"
  },
  "language_info": {
   "codemirror_mode": {
    "name": "ipython",
    "version": 3
   },
   "file_extension": ".py",
   "mimetype": "text/x-python",
   "name": "python",
   "nbconvert_exporter": "python",
   "pygments_lexer": "ipython3",
   "version": "3.9.7"
  }
 },
 "nbformat": 4,
 "nbformat_minor": 5
}
