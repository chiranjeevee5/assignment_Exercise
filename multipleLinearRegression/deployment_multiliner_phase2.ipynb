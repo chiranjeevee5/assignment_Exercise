{
 "cells": [
  {
   "cell_type": "code",
   "execution_count": 1,
   "id": "ef2cb3b2",
   "metadata": {},
   "outputs": [],
   "source": [
    "import pickle"
   ]
  },
  {
   "cell_type": "code",
   "execution_count": 3,
   "id": "d83d467d",
   "metadata": {},
   "outputs": [],
   "source": [
    "#To test the multi linear regression model - State_Florida\n",
    "loaded_model=pickle.load(open(\"finallized_model_mul_linear.sav\",'rb'))\n",
    "result=loaded_model.predict([[12345,2345,23456,1,0]])"
   ]
  },
  {
   "cell_type": "code",
   "execution_count": 4,
   "id": "89d3e7aa",
   "metadata": {},
   "outputs": [
    {
     "data": {
      "text/plain": [
       "array([[53428.11881955]])"
      ]
     },
     "execution_count": 4,
     "metadata": {},
     "output_type": "execute_result"
    }
   ],
   "source": [
    "result"
   ]
  },
  {
   "cell_type": "code",
   "execution_count": 5,
   "id": "4d36069d",
   "metadata": {},
   "outputs": [],
   "source": [
    "#To test the multi linear regression model - State NewYork\n",
    "loaded_model=pickle.load(open(\"finallized_model_mul_linear.sav\",'rb'))\n",
    "result=loaded_model.predict([[54312,4324,54321,0,1]])"
   ]
  },
  {
   "cell_type": "code",
   "execution_count": 6,
   "id": "42765306",
   "metadata": {},
   "outputs": [
    {
     "data": {
      "text/plain": [
       "array([[87476.11542456]])"
      ]
     },
     "execution_count": 6,
     "metadata": {},
     "output_type": "execute_result"
    }
   ],
   "source": [
    "result"
   ]
  },
  {
   "cell_type": "code",
   "execution_count": null,
   "id": "5e9bd9ac",
   "metadata": {},
   "outputs": [],
   "source": []
  }
 ],
 "metadata": {
  "kernelspec": {
   "display_name": "Python 3 (ipykernel)",
   "language": "python",
   "name": "python3"
  },
  "language_info": {
   "codemirror_mode": {
    "name": "ipython",
    "version": 3
   },
   "file_extension": ".py",
   "mimetype": "text/x-python",
   "name": "python",
   "nbconvert_exporter": "python",
   "pygments_lexer": "ipython3",
   "version": "3.9.7"
  }
 },
 "nbformat": 4,
 "nbformat_minor": 5
}
